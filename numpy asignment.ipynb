{
 "cells": [
  {
   "cell_type": "code",
   "execution_count": 3,
   "id": "9ea6c1ab",
   "metadata": {},
   "outputs": [
    {
     "data": {
      "text/plain": [
       "array([0.10011982, 0.0035853 , 0.08286477, 0.11742325, 0.02664149,\n",
       "       0.35424054, 0.6864603 , 0.26669246, 0.67557124, 0.92336145])"
      ]
     },
     "execution_count": 3,
     "metadata": {},
     "output_type": "execute_result"
    }
   ],
   "source": [
    "## 1.Write a program to find and manipulate the shape of ndarray.\n",
    "\n",
    "import numpy as np\n",
    "\n",
    "array=np.random.random(10)\n",
    "\n",
    "array"
   ]
  },
  {
   "cell_type": "code",
   "execution_count": 20,
   "id": "662d24b8",
   "metadata": {},
   "outputs": [
    {
     "name": "stdout",
     "output_type": "stream",
     "text": [
      "3.4339872044851463\n",
      "3.4657359027997265\n",
      "3.4965075614664802\n",
      "3.5263605246161616\n",
      "3.5553480614894135\n",
      "3.58351893845611\n",
      "3.6109179126442243\n",
      "3.6375861597263857\n",
      "3.6635616461296463\n",
      "3.6888794541139363\n",
      "40\n"
     ]
    }
   ],
   "source": [
    "## 2.Write a program to find the logarithmic value of numbers from 31 to 40.\n",
    "\n",
    "import math\n",
    "\n",
    "for i in range(31,41):\n",
    "    print(math.log(i))\n",
    "    \n",
    "print(i)"
   ]
  },
  {
   "cell_type": "code",
   "execution_count": 2,
   "id": "3b2779f0",
   "metadata": {
    "scrolled": true
   },
   "outputs": [
    {
     "name": "stdout",
     "output_type": "stream",
     "text": [
      "[[0. 0.]\n",
      " [0. 0.]\n",
      " [0. 0.]]\n",
      "[[1. 1.]\n",
      " [1. 1.]\n",
      " [1. 1.]]\n"
     ]
    }
   ],
   "source": [
    "## 3.Write a program to create a 3x2 matrix containing zeros and another matrix containing one only.\n",
    "\n",
    "import numpy as np\n",
    "\n",
    "dimensions = (3, 2)\n",
    "\n",
    "a = np.zeros(dimensions)\n",
    "\n",
    "b = np.ones(dimensions)\n",
    "print(a)\n",
    "\n",
    "print(b)"
   ]
  },
  {
   "cell_type": "code",
   "execution_count": 18,
   "id": "0857619d",
   "metadata": {},
   "outputs": [
    {
     "data": {
      "text/plain": [
       "numpy.ndarray"
      ]
     },
     "execution_count": 18,
     "metadata": {},
     "output_type": "execute_result"
    }
   ],
   "source": [
    "## 4.Write a program to convert regular array into an ndarray. \n",
    "\n",
    "import numpy as np\n",
    "\n",
    "A = np.array([1,3,2,4,6])\n",
    "type(A)"
   ]
  },
  {
   "cell_type": "code",
   "execution_count": 19,
   "id": "e66dd055",
   "metadata": {},
   "outputs": [
    {
     "data": {
      "text/plain": [
       "array([1, 3, 2, 4, 6])"
      ]
     },
     "execution_count": 19,
     "metadata": {},
     "output_type": "execute_result"
    }
   ],
   "source": [
    "A"
   ]
  },
  {
   "cell_type": "code",
   "execution_count": 10,
   "id": "8e454215",
   "metadata": {},
   "outputs": [
    {
     "data": {
      "text/plain": [
       "chararray(['ABHI', 'PARTH'], dtype='<U5')"
      ]
     },
     "execution_count": 10,
     "metadata": {},
     "output_type": "execute_result"
    }
   ],
   "source": [
    "## 5.Write a program to create an ndarray containing characters of a string.\n",
    "\n",
    "import numpy as np\n",
    "\n",
    "A = np.char.array(['ABHI', 'PARTH'])\n",
    "A"
   ]
  },
  {
   "cell_type": "code",
   "execution_count": 30,
   "id": "57181c29",
   "metadata": {},
   "outputs": [
    {
     "name": "stdout",
     "output_type": "stream",
     "text": [
      "martix 1:\n",
      "[[1 4]\n",
      " [2 5]\n",
      " [3 6]]\n",
      "matrix 2:\n",
      "[[7 2]\n",
      " [8 5]\n",
      " [9 7]]\n",
      "Addition:\n",
      "[[ 8  6]\n",
      " [10 10]\n",
      " [12 13]]\n"
     ]
    }
   ],
   "source": [
    "## 6. Write a program to find transpose of two metrics and then perform addition on them.\n",
    "\n",
    "import numpy as np\n",
    "\n",
    "P = np.array([(1,2,3),(4,5,6)])\n",
    "Q = np.array([(7,8,9),(2,5,7)])\n",
    "\n",
    "print(\"martix 1:\")\n",
    "A = np.transpose(P)\n",
    "print(A)\n",
    "\n",
    "print(\"matrix 2:\")\n",
    "B = np.transpose(Q)\n",
    "print(B)\n",
    "\n",
    "print(\"Addition:\")\n",
    "E = A + B\n",
    "print(E)"
   ]
  },
  {
   "cell_type": "code",
   "execution_count": 40,
   "id": "53af10d5",
   "metadata": {},
   "outputs": [
    {
     "name": "stdout",
     "output_type": "stream",
     "text": [
      "********ABHI********\n",
      "Imagika\n",
      "surat\n",
      "AHMEDABAD\n"
     ]
    }
   ],
   "source": [
    "## 7. Write a program to explain various string manipulation methods on Numpy arrays.\n",
    "\n",
    "import numpy as np\n",
    "A = np.char.center('ABHI', 20,fillchar = '*')\n",
    "print(A)\n",
    "\n",
    "B = np.char.title('IMAGIKA')\n",
    "print(B)\n",
    "\n",
    "C = np.char.lower('SURAT')\n",
    "print(C)\n",
    "\n",
    "D = np.char.upper('ahmedabad')\n",
    "print(D)"
   ]
  },
  {
   "cell_type": "code",
   "execution_count": 34,
   "id": "64c3b639",
   "metadata": {},
   "outputs": [
    {
     "name": "stdout",
     "output_type": "stream",
     "text": [
      "[[3 4 5 6]\n",
      " [1 4 7 9]]\n",
      "[[ 2  8  4 12]\n",
      " [ 5 10 15 25]]\n",
      "[[ 5 12  9 18]\n",
      " [ 6 14 22 34]]\n",
      "[[  1  -4   1  -6]\n",
      " [ -4  -6  -8 -16]]\n",
      "[[  6  32  20  72]\n",
      " [  5  40 105 225]]\n",
      "[[1.5        0.5        1.25       0.5       ]\n",
      " [0.2        0.4        0.46666667 0.36      ]]\n"
     ]
    }
   ],
   "source": [
    "\n",
    "##8. Write a program to perform various arithmetic functions on Numpy arrays.\n",
    "import numpy as np\n",
    "\n",
    "A = np.array([(3,4,5,6),(1,4,7,9)])\n",
    "print(A)\n",
    "\n",
    "B = np.array([(2,8,4,12),(5,10,15,25)])\n",
    "print(B)\n",
    "\n",
    "C = np.add(A,B)\n",
    "print(C)\n",
    "\n",
    "D = np.subtract(A,B)\n",
    "print(D)\n",
    "\n",
    "E = np.multiply(A,B)\n",
    "print(E)\n",
    "\n",
    "F = np.divide(A,B)\n",
    "print(F)"
   ]
  },
  {
   "cell_type": "code",
   "execution_count": 4,
   "id": "cd838584",
   "metadata": {},
   "outputs": [
    {
     "name": "stdout",
     "output_type": "stream",
     "text": [
      "[[3 4]\n",
      " [1 4]]\n",
      "[[ 2  8]\n",
      " [ 5 10]]\n",
      "[[1.73205081 2.        ]\n",
      " [1.         2.        ]]\n",
      "[[26 64]\n",
      " [22 48]]\n"
     ]
    }
   ],
   "source": [
    "###9. Write a program to explain matrix manipulation using ndarrays.\n",
    "\n",
    "import numpy as np\n",
    "\n",
    "A = np.array([(3,4),(1,4)])\n",
    "print(A)\n",
    "\n",
    "B = np.array([(2,8),(5,10)])\n",
    "print(B)\n",
    "\n",
    "C = np.sqrt(A)\n",
    "print(C)\n",
    "\n",
    "D = np.dot(A,B)\n",
    "print(D)\n"
   ]
  },
  {
   "cell_type": "code",
   "execution_count": null,
   "id": "70ac067f",
   "metadata": {},
   "outputs": [],
   "source": [
    "###10. Assume That You have this Array [ [ 5 , 10 , 15 ] , [ 20 , 12 , 28 ]] , Now At output give Only that Value which is Greater Than 12 . \n",
    "\n",
    "import numpy as np\n",
    "\n"
   ]
  }
 ],
 "metadata": {
  "kernelspec": {
   "display_name": "Python 3",
   "language": "python",
   "name": "python3"
  },
  "language_info": {
   "codemirror_mode": {
    "name": "ipython",
    "version": 3
   },
   "file_extension": ".py",
   "mimetype": "text/x-python",
   "name": "python",
   "nbconvert_exporter": "python",
   "pygments_lexer": "ipython3",
   "version": "3.8.8"
  }
 },
 "nbformat": 4,
 "nbformat_minor": 5
}
