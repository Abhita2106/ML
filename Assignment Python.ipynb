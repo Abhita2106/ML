{
 "cells": [
  {
   "cell_type": "markdown",
   "id": "23fdfe9b",
   "metadata": {},
   "source": [
    "### What is Python, name some of the features of Python.\n",
    "\n",
    "python is a interpreted,object oriented and high level programming language.\n",
    "it has high level built in data structures,combined with dynamic typing and dynamic binding,make it very attractive for rapid application development.\n"
   ]
  },
  {
   "cell_type": "markdown",
   "id": "a269a1f6",
   "metadata": {},
   "source": [
    "\n",
    "\n",
    "\n"
   ]
  },
  {
   "cell_type": "markdown",
   "id": "90e75245",
   "metadata": {
    "scrolled": true
   },
   "source": [
    "### Write a Python program to get the Python version you are using?\n"
   ]
  },
  {
   "cell_type": "code",
   "execution_count": 7,
   "id": "41ad97d7",
   "metadata": {},
   "outputs": [
    {
     "name": "stdout",
     "output_type": "stream",
     "text": [
      "Python version\n",
      "3.8.8 (default, Apr 13 2021, 15:08:03) [MSC v.1916 64 bit (AMD64)]\n",
      "Version info.\n",
      "sys.version_info(major=3, minor=8, micro=8, releaselevel='final', serial=0)\n"
     ]
    }
   ],
   "source": [
    "import sys\n",
    "print(\"Python version\")\n",
    "print (sys.version)\n",
    "print(\"Version info.\")\n",
    "print (sys.version_info)"
   ]
  },
  {
   "cell_type": "markdown",
   "id": "30bbdc30",
   "metadata": {},
   "source": [
    "### Is python the right choice for Web based Programming?\n",
    "\n",
    "\n",
    "Yes,Python is the right choice for web based programming.Because,The language of Python is extremely powerful and very advanced for web design and development.\n"
   ]
  },
  {
   "cell_type": "markdown",
   "id": "15bf6bd7",
   "metadata": {},
   "source": [
    "###  Why was the language called as Python?\n",
    "\n",
    " Technically, Python is defined as a general-purpose programming language. Developed by Guido Van Rossum, it is object-oriented. The word Python is derived from Guido’s favorite television show Monty Python’s Flying Circus."
   ]
  },
  {
   "cell_type": "markdown",
   "id": "ead1dbc5",
   "metadata": {},
   "source": [
    "###  Write a Python program to check if a number is positive, negative or zero."
   ]
  },
  {
   "cell_type": "code",
   "execution_count": 14,
   "id": "486e6889",
   "metadata": {},
   "outputs": [
    {
     "name": "stdout",
     "output_type": "stream",
     "text": [
      "Enter a number: -3\n",
      "Negative number\n"
     ]
    }
   ],
   "source": [
    "num = float(input(\"Enter a number: \"))\n",
    "if num > 0:\n",
    "   print(\"Positive number\")\n",
    "elif num == 0:\n",
    "   print(\"Zero\")\n",
    "else:\n",
    "   print(\"Negative number\")"
   ]
  },
  {
   "cell_type": "markdown",
   "id": "aa459ac4",
   "metadata": {},
   "source": [
    "### What is the language from which Python has got its features or derived its features?\n",
    "\n",
    "\t\n",
    "Most of the object oriented programming languages to name a few are C++, CLISP and Java is the language from which Python has got its features or derived its features."
   ]
  },
  {
   "cell_type": "code",
   "execution_count": 2,
   "id": "a8cde74c",
   "metadata": {},
   "outputs": [
    {
     "ename": "SyntaxError",
     "evalue": "invalid syntax (<ipython-input-2-e7728b9a6e75>, line 1)",
     "output_type": "error",
     "traceback": [
      "\u001b[1;36m  File \u001b[1;32m\"<ipython-input-2-e7728b9a6e75>\"\u001b[1;36m, line \u001b[1;32m1\u001b[0m\n\u001b[1;33m    Write a Python program to check if variable is of integer or string.\u001b[0m\n\u001b[1;37m          ^\u001b[0m\n\u001b[1;31mSyntaxError\u001b[0m\u001b[1;31m:\u001b[0m invalid syntax\n"
     ]
    }
   ],
   "source": [
    "Write a Python program to check if variable is of integer or string.\n"
   ]
  },
  {
   "cell_type": "code",
   "execution_count": null,
   "id": "d59622be",
   "metadata": {},
   "outputs": [],
   "source": []
  },
  {
   "cell_type": "markdown",
   "id": "af247ef8",
   "metadata": {},
   "source": [
    "### Does python support switch or case statement in Python?If not what is the reason for the same?\n",
    "\n",
    "Unlike many other languages, Python does not directly support switch or a case statement. The reason for this is, instead of sequentially analyzing each statement, it evaluates the expression or variable and jumps explicitly to the following branch code to execute."
   ]
  },
  {
   "cell_type": "markdown",
   "id": "4d87b0ad",
   "metadata": {},
   "source": [
    "### How Python is interpreted?\n",
    "\n",
    "First Python checks for program syntax,Compiles and converts it to bytecode, and directly bytecode is loaded in system memory.\n",
    "Then compiled bytecode interpreted from memory to execute it."
   ]
  },
  {
   "cell_type": "markdown",
   "id": "5a9e32ee",
   "metadata": {},
   "source": [
    "### Write a Python program to get the Factorial number of given number."
   ]
  },
  {
   "cell_type": "code",
   "execution_count": 7,
   "id": "913ce780",
   "metadata": {},
   "outputs": [
    {
     "name": "stdout",
     "output_type": "stream",
     "text": [
      "Factorial of 8 is 40320\n"
     ]
    }
   ],
   "source": [
    "import math\n",
    " \n",
    "def factorial(n):\n",
    "    return(math.factorial(n))\n",
    "\n",
    "num = 8\n",
    "print(\"Factorial of\", num, \"is\",factorial(num))"
   ]
  },
  {
   "cell_type": "markdown",
   "id": "78f1d47a",
   "metadata": {},
   "source": [
    "### Write a Python program to get the Fibonacci series of given range."
   ]
  },
  {
   "cell_type": "code",
   "execution_count": 9,
   "id": "5a79017a",
   "metadata": {},
   "outputs": [
    {
     "name": "stdout",
     "output_type": "stream",
     "text": [
      "Enter how many numbers needed in Fibonacci series- 8\n",
      "0 1 1 2 3 5 8 13 "
     ]
    }
   ],
   "source": [
    "def fibonacci(num):\n",
    "    num1 = 0\n",
    "    num2 = 1\n",
    "    series = 0\n",
    "    for i in range(num):\n",
    "        print(series, end=' ');\n",
    "        num1 = num2;\n",
    "        num2 = series;\n",
    "        series = num1 + num2;\n",
    "\n",
    "num = int(input('Enter how many numbers needed in Fibonacci series- '))\n",
    "fibonacci(num)"
   ]
  },
  {
   "cell_type": "markdown",
   "id": "c3cb1d4c",
   "metadata": {},
   "source": [
    "### How memory is managed in Python?\n",
    "\n",
    "Python memory is managed by Python private heap space.\n",
    "All Python objects and data structures are located in a private heap.\n",
    "The programmer does not have access to this private heap and interpreter takes care of this Python private heap.\n",
    "The allocation of Python heap space for Python objects is done by the Python memory manager. The core API gives access to some tools for the programmer to code.\n",
    "Python also has an inbuilt garbage collector, which recycle all the unused memory and frees the memory and makes it available to the heap space."
   ]
  },
  {
   "cell_type": "markdown",
   "id": "285734e0",
   "metadata": {},
   "source": [
    "### What is namespace in Python?\n",
    "\n",
    "Namespace is a way to implement scope. In Python, each package, module, class, function and method function owns a \"namespace\" in which variable names are resolved. When a function,  module or package is evaluated (that is, starts execution), a namespace is created. Think of it as an \"evaluation context\". When a function, etc., finishes execution, the namespace is dropped. The variables are dropped. Plus there's a global namespace that's used if the name isn't in the local namespace."
   ]
  },
  {
   "cell_type": "markdown",
   "id": "265c0006",
   "metadata": {},
   "source": [
    "### What is the purpose continue statement in python?\n",
    "\n",
    "The continue keyword is used to end the current iteration in a for loop (or a while loop), and continues to the next iteration."
   ]
  },
  {
   "cell_type": "markdown",
   "id": "94b7211d",
   "metadata": {},
   "source": [
    "### Write python program that swap two number with temp variable and without temp variable"
   ]
  },
  {
   "cell_type": "code",
   "execution_count": 10,
   "id": "e1eee499",
   "metadata": {},
   "outputs": [
    {
     "name": "stdout",
     "output_type": "stream",
     "text": [
      "Enter the first number: 20\n",
      "Enter the second number: 30\n",
      "Before swapping\n",
      "First number is :  20\n",
      "First number is :  30\n",
      "After swapping\n",
      "First number is :  20\n",
      "First number is :  20\n"
     ]
    }
   ],
   "source": [
    "#with temp var\n",
    "num1 = int (input (\"Enter the first number: \"))\n",
    "num2 = int (input (\"Enter the second number: \")) \n",
    "\n",
    "#Print original number\n",
    "print (\"Before swapping\")\n",
    "print (\"First number is : \", num1)\n",
    "print (\"First number is : \", num2) \n",
    "\n",
    "#Swapping using temporary variable\n",
    "temp = num1\n",
    "num2 = num1\n",
    "num1 = temp\n",
    "\n",
    "#Print Swapped number\n",
    "print (\"After swapping\") \n",
    "print (\"First number is : \", num1)\n",
    "print (\"First number is : \", num2) "
   ]
  },
  {
   "cell_type": "code",
   "execution_count": 12,
   "id": "14455f2f",
   "metadata": {},
   "outputs": [
    {
     "name": "stdout",
     "output_type": "stream",
     "text": [
      "Enter first number: 23\n",
      "Enter second number: 45\n",
      "Old value of int1 is 23 and int2 is 45\n",
      "New value of int1 is 45 and int2 is 23\n"
     ]
    }
   ],
   "source": [
    "#without temp var\n",
    "int1 = int(input(\"Enter first number: \"))\n",
    "int2 = int(input(\"Enter second number: \"))\n",
    "\n",
    "print('Old value of int1 is {0} and int2 is {1}'.format(int1, int2))\n",
    "\n",
    "int1 = int1 + int2\n",
    "int2 = int1 - int2\n",
    "int1 = int1 - int2\n",
    "\n",
    "# Display the result\n",
    "print('New value of int1 is {0} and int2 is {1}'.format(int1, int2))\n"
   ]
  },
  {
   "cell_type": "markdown",
   "id": "1dd0c5db",
   "metadata": {},
   "source": [
    "### Write a Python program to find whether a given number is even or odd,print out an appropriate message to the user."
   ]
  },
  {
   "cell_type": "code",
   "execution_count": 14,
   "id": "b5eaf7be",
   "metadata": {},
   "outputs": [
    {
     "name": "stdout",
     "output_type": "stream",
     "text": [
      "Enter a number: 2\n",
      "This is an even number.\n"
     ]
    }
   ],
   "source": [
    "num = int(input(\"Enter a number: \"))\n",
    "mod = num % 2\n",
    "if mod > 0:\n",
    "    print(\"This is an odd number.\")\n",
    "else:\n",
    "    print(\"This is an even number.\")\n",
    "    "
   ]
  },
  {
   "cell_type": "markdown",
   "id": "f3b7731c",
   "metadata": {},
   "source": [
    "### Write a Python program that compute the area of following.\n"
   ]
  },
  {
   "cell_type": "markdown",
   "id": "cc0c7b3a",
   "metadata": {},
   "source": [
    "#### 1) Triangle (accepts base and height)"
   ]
  },
  {
   "cell_type": "code",
   "execution_count": 22,
   "id": "93d786ab",
   "metadata": {},
   "outputs": [
    {
     "name": "stdout",
     "output_type": "stream",
     "text": [
      "Input the base : 2\n",
      "Input the height : 3\n",
      "area =  3.0\n"
     ]
    }
   ],
   "source": [
    "b = int(input(\"Input the base : \"))\n",
    "h = int(input(\"Input the height : \"))\n",
    "\n",
    "area = b*h/2\n",
    "\n",
    "print(\"area = \", area)\n"
   ]
  },
  {
   "cell_type": "markdown",
   "id": "b8187d8a",
   "metadata": {},
   "source": [
    "#### 2) Circle (accept radius)"
   ]
  },
  {
   "cell_type": "code",
   "execution_count": 23,
   "id": "f473a1fa",
   "metadata": {},
   "outputs": [
    {
     "name": "stdout",
     "output_type": "stream",
     "text": [
      "Enter radius of circle : 3\n",
      "Area of the circle is: 28.274333882308138\n"
     ]
    }
   ],
   "source": [
    "from math import pi\n",
    "\n",
    "r = float(input (\"Enter radius of circle : \"))\n",
    "\n",
    "print (\"Area of the circle is: \" + str(pi * r**2))"
   ]
  },
  {
   "cell_type": "markdown",
   "id": "f61d0dd4",
   "metadata": {},
   "source": [
    "### Write a Python program to test whether a passed letter is a vowel or not\n"
   ]
  },
  {
   "cell_type": "code",
   "execution_count": 24,
   "id": "1ae56c99",
   "metadata": {},
   "outputs": [
    {
     "name": "stdout",
     "output_type": "stream",
     "text": [
      "False\n",
      "True\n"
     ]
    }
   ],
   "source": [
    "def is_vowel(char):\n",
    "    all_vowels = 'aeiou'\n",
    "    return char in all_vowels\n",
    "print(is_vowel('c'))\n",
    "print(is_vowel('e'))\n"
   ]
  },
  {
   "cell_type": "markdown",
   "id": "12145491",
   "metadata": {},
   "source": [
    "### Write a Python program to compute the value of a specified principal amount, rate of interest, and a number of years"
   ]
  },
  {
   "cell_type": "code",
   "execution_count": 26,
   "id": "8a3fc981",
   "metadata": {},
   "outputs": [
    {
     "name": "stdout",
     "output_type": "stream",
     "text": [
      "1124864.0\n"
     ]
    }
   ],
   "source": [
    "amt = 1000000\n",
    "int = 4\n",
    "years = 3\n",
    "future_value = amt*((1+(0.01*int)) ** years)\n",
    "print(round(future_value,2))"
   ]
  },
  {
   "cell_type": "markdown",
   "id": "637ee6cc",
   "metadata": {},
   "source": [
    "### What are the tools that help to find bugs or perform static analysis?\n",
    "\n",
    "Pychecker and Pylint are the static analysis tools that help to find bugs in python. Pychecker is an opensource tool for static analysis that detects the bugs from source code and warns about the style and complexity of the bug."
   ]
  },
  {
   "cell_type": "markdown",
   "id": "4c6c21ca",
   "metadata": {},
   "source": [
    "### What are Python decorators?\n",
    "\n",
    "Python has an interesting feature called decorators to add functionality to an existing code. ...\n",
    "Prerequisites for learning decorators. In order to understand about decorators, we must first know a few basic things in Python. ...\n",
    "Getting back to Decorators. ...\n",
    "Decorating Functions with Parameters. ...\n",
    "Chaining Decorators in Python. ..."
   ]
  },
  {
   "cell_type": "markdown",
   "id": "cf84d2ce",
   "metadata": {},
   "source": [
    "### What is PEP 8?\n",
    "\n",
    "PEP 8, sometimes spelled PEP8 or PEP-8, is a document that provides guidelines and best practices on how to write Python code. It was written in 2001 by Guido van Rossum, Barry Warsaw, and Nick Coghlan. The primary focus of PEP 8 is to improve the readability and consistency of Python code."
   ]
  },
  {
   "cell_type": "markdown",
   "id": "3215269e",
   "metadata": {},
   "source": [
    "### Write a Python program to sort three integers without using conditional statements and loops.\n",
    "\n"
   ]
  },
  {
   "cell_type": "code",
   "execution_count": 5,
   "id": "6b203150",
   "metadata": {},
   "outputs": [
    {
     "name": "stdout",
     "output_type": "stream",
     "text": [
      "Input first number: 4\n",
      "Input second number: 5\n",
      "Input third number: 6\n",
      "Numbers in sorted order:  4 5 6\n"
     ]
    }
   ],
   "source": [
    "x = int(input(\"Input first number: \"))\n",
    "y = int(input(\"Input second number: \"))\n",
    "z = int(input(\"Input third number: \"))\n",
    "\n",
    "a1 = min(x, y, z)\n",
    "a3 = max(x, y, z)\n",
    "a2 = (x + y + z) - a1 - a3\n",
    "print(\"Numbers in sorted order: \", a1, a2, a3)"
   ]
  },
  {
   "cell_type": "markdown",
   "id": "c79863cf",
   "metadata": {},
   "source": [
    "### Write a Python program that accepts an integer (n) and computes the value of n+nn+nnn."
   ]
  },
  {
   "cell_type": "code",
   "execution_count": 4,
   "id": "d7f04e06",
   "metadata": {},
   "outputs": [
    {
     "name": "stdout",
     "output_type": "stream",
     "text": [
      "Input an integer : 4\n",
      "492\n"
     ]
    }
   ],
   "source": [
    "a = int(input(\"Input an integer : \"))\n",
    "n1 = int( \"%s\" % a )\n",
    "n2 = int( \"%s%s\" % (a,a) )\n",
    "n3 = int( \"%s%s%s\" % (a,a,a) )\n",
    "print (n1+n2+n3)"
   ]
  },
  {
   "cell_type": "markdown",
   "id": "430d8251",
   "metadata": {},
   "source": [
    "### Write a Python program to sum of three given integers.However, if two values are equal sum will be zero.\n"
   ]
  },
  {
   "cell_type": "code",
   "execution_count": 7,
   "id": "6dbce532",
   "metadata": {},
   "outputs": [
    {
     "name": "stdout",
     "output_type": "stream",
     "text": [
      "0\n",
      "0\n",
      "0\n",
      "6\n"
     ]
    }
   ],
   "source": [
    "def sum(x, y, z):\n",
    "    if x == y or y == z or x==z:\n",
    "        sum = 0\n",
    "    else:\n",
    "        sum = x + y + z\n",
    "    return sum\n",
    "\n",
    "print(sum(2, 1, 2))\n",
    "print(sum(3, 2, 2))\n",
    "print(sum(2, 2, 2))\n",
    "print(sum(1, 2, 3))"
   ]
  },
  {
   "cell_type": "markdown",
   "id": "edd3513c",
   "metadata": {},
   "source": [
    "### Write a Python program that will return true if the two given integer values are equal or their sum or difference is 5."
   ]
  },
  {
   "cell_type": "code",
   "execution_count": 8,
   "id": "aba351de",
   "metadata": {},
   "outputs": [
    {
     "name": "stdout",
     "output_type": "stream",
     "text": [
      "True\n",
      "True\n",
      "True\n",
      "False\n",
      "False\n"
     ]
    }
   ],
   "source": [
    "def test_number5(x, y):\n",
    "   if x == y or abs(x-y) == 5 or (x+y) == 5:\n",
    "       return True\n",
    "   else:\n",
    "       return False\n",
    "print(test_number5(7, 2))\n",
    "print(test_number5(3, 2))\n",
    "print(test_number5(2, 2))\n",
    "print(test_number5(7, 3))\n",
    "print(test_number5(27, 53))"
   ]
  },
  {
   "cell_type": "markdown",
   "id": "cd95efe4",
   "metadata": {},
   "source": [
    "### Write a python program to sum of the first n positive integers"
   ]
  },
  {
   "cell_type": "code",
   "execution_count": 9,
   "id": "0fdece6e",
   "metadata": {},
   "outputs": [
    {
     "name": "stdout",
     "output_type": "stream",
     "text": [
      "Input a number: 5\n",
      "Sum of the first 5 positive integers: 15.0\n"
     ]
    }
   ],
   "source": [
    "n = int(input(\"Input a number: \"))\n",
    "sum_num = (n * (n + 1)) / 2\n",
    "print(\"Sum of the first\", n ,\"positive integers:\", sum_num)"
   ]
  },
  {
   "cell_type": "markdown",
   "id": "aeba71ea",
   "metadata": {},
   "source": [
    "### Write a Python program to calculate the length of a string."
   ]
  },
  {
   "cell_type": "code",
   "execution_count": 10,
   "id": "7c9c2c71",
   "metadata": {},
   "outputs": [
    {
     "name": "stdout",
     "output_type": "stream",
     "text": [
      "6\n"
     ]
    }
   ],
   "source": [
    "def string_length(str1):\n",
    "    count = 0\n",
    "    for char in str1:\n",
    "        count += 1\n",
    "    return count\n",
    "print(string_length('Abhita'))"
   ]
  },
  {
   "cell_type": "markdown",
   "id": "8bd35377",
   "metadata": {},
   "source": [
    "### Write a Python program to count the number of characters (character frequency)in a string"
   ]
  },
  {
   "cell_type": "code",
   "execution_count": 11,
   "id": "2bffb2aa",
   "metadata": {},
   "outputs": [
    {
     "name": "stdout",
     "output_type": "stream",
     "text": [
      "{'A': 1, 'b': 1, 'h': 1, 'i': 2, 't': 1, 'a': 3, ' ': 1, 'K': 1, 'e': 1, 'v': 1, 'd': 1, 'y': 1}\n"
     ]
    }
   ],
   "source": [
    "def char_frequency(str1):\n",
    "    dict = {}\n",
    "    for n in str1:\n",
    "        keys = dict.keys()\n",
    "        if n in keys:\n",
    "            dict[n] += 1\n",
    "        else:\n",
    "            dict[n] = 1\n",
    "    return dict\n",
    "print(char_frequency('Abhita Kevadiya'))\n"
   ]
  },
  {
   "cell_type": "markdown",
   "id": "74961ce8",
   "metadata": {},
   "source": [
    "### What are negative indexes and why are they used?\n",
    "\n",
    "we have a general list x = [a, b, c, d,]. Negative indexes are the other way to indicate the position of an element within the list. In this case d has index -1, c -2 and so on. Are used depending on your need."
   ]
  },
  {
   "cell_type": "markdown",
   "id": "b17c1817",
   "metadata": {},
   "source": [
    "### Explain split(), sub(), subn() methods of “re” module in Python.\n",
    "    \n",
    "To modify the strings, Python’s “re” module is providing 3 methods. They are:\n",
    "sub() – finds all substrings where the regex pattern matches and then replace them with a different string\n",
    "split() – uses a regex pattern to “split” a given string into a list.\n",
    "subn() – being similar to sub() it also returns the new string along with the number of replacements"
   ]
  },
  {
   "cell_type": "markdown",
   "id": "3a0b775d",
   "metadata": {},
   "source": [
    "### How do you perform pattern matching in Python? Explain\n",
    "\n",
    "Developers recognize that function declarations also form a kind of pattern and that to call the function successfully, the caller must match the pattern. Sending the wrong number or types of variables as part of the function call causes the call to fail. Data structures also form a kind of pattern because the data must appear in a certain order and be of a specific type."
   ]
  },
  {
   "cell_type": "markdown",
   "id": "2708cc40",
   "metadata": {},
   "source": [
    "### Write a Python program to count occurrences of a substring in a string"
   ]
  },
  {
   "cell_type": "code",
   "execution_count": 13,
   "id": "3338fad4",
   "metadata": {},
   "outputs": [
    {
     "name": "stdout",
     "output_type": "stream",
     "text": [
      "\n",
      "2\n",
      "\n"
     ]
    }
   ],
   "source": [
    "str1 = 'hello world,world is beautiful.'\n",
    "print()\n",
    "print(str1.count(\"world\"))\n",
    "print()"
   ]
  },
  {
   "cell_type": "markdown",
   "id": "4385f66b",
   "metadata": {},
   "source": [
    "### Write a Python program to count the occurrences of each word in a given sentence"
   ]
  },
  {
   "cell_type": "code",
   "execution_count": 14,
   "id": "7fb707b5",
   "metadata": {},
   "outputs": [
    {
     "name": "stdout",
     "output_type": "stream",
     "text": [
      "{'My': 1, 'Name': 1, 'is': 1, 'Abhita': 1, 'Kevadiya.': 1}\n"
     ]
    }
   ],
   "source": [
    "def word_count(str):\n",
    "    counts = dict()\n",
    "    words = str.split()\n",
    "\n",
    "    for word in words:\n",
    "        if word in counts:\n",
    "            counts[word] += 1\n",
    "        else:\n",
    "            counts[word] = 1\n",
    "\n",
    "    return counts\n",
    "\n",
    "print( word_count('My Name is Abhita Kevadiya.'))"
   ]
  },
  {
   "cell_type": "markdown",
   "id": "45635d10",
   "metadata": {},
   "source": [
    "### Write a Python program to get a single string from two given strings,separated by a space and swap the first two characters of each string."
   ]
  },
  {
   "cell_type": "code",
   "execution_count": 16,
   "id": "58d5db17",
   "metadata": {},
   "outputs": [
    {
     "name": "stdout",
     "output_type": "stream",
     "text": [
      "Pahita Abrth\n"
     ]
    }
   ],
   "source": [
    "def chars_mix_up(a, b):\n",
    "  new_a = b[:2] + a[2:]\n",
    "  new_b = a[:2] + b[2:]\n",
    "\n",
    "  return new_a + ' ' + new_b\n",
    "print(chars_mix_up('Abhita', 'Parth'))"
   ]
  },
  {
   "cell_type": "markdown",
   "id": "c66a9d68",
   "metadata": {},
   "source": [
    "### Write a Python program to add 'ing' at the end of a given string(length should be at least 3). If the given string already ends with 'ing' then add 'ly' insteadIf the string length of the given string is less than 3, leave it unchanged"
   ]
  },
  {
   "cell_type": "code",
   "execution_count": 19,
   "id": "5ec720e7",
   "metadata": {},
   "outputs": [
    {
     "name": "stdout",
     "output_type": "stream",
     "text": [
      "pa\n",
      "parking\n",
      "waingly\n"
     ]
    }
   ],
   "source": [
    "def add_string(str1):\n",
    "  length = len(str1)\n",
    "\n",
    "  if length > 2:\n",
    "    if str1[-3:] == 'ing':\n",
    "      str1 += 'ly'\n",
    "    else:\n",
    "      str1 += 'ing'\n",
    "\n",
    "  return str1\n",
    "print(add_string('pa'))\n",
    "print(add_string('park'))\n",
    "print(add_string('waing'))"
   ]
  },
  {
   "cell_type": "markdown",
   "id": "ea3358ea",
   "metadata": {},
   "source": [
    "### Write a Python program to find the first appearance of the substring 'not' and 'poor' from a given string, if 'not' follows the 'poor', replace the whole 'not'...'poor' substring with 'good'. Return the resulting string."
   ]
  },
  {
   "cell_type": "code",
   "execution_count": 21,
   "id": "90ab190f",
   "metadata": {},
   "outputs": [
    {
     "name": "stdout",
     "output_type": "stream",
     "text": [
      "The atmospher is good!\n",
      "The atmospher is poor!\n"
     ]
    }
   ],
   "source": [
    "def not_poor(str1):\n",
    "  snot = str1.find('not')\n",
    "  spoor = str1.find('poor')\n",
    "  \n",
    "\n",
    "  if spoor > snot and snot>0 and spoor>0:\n",
    "    str1 = str1.replace(str1[snot:(spoor+4)], 'good')\n",
    "    return str1\n",
    "  else:\n",
    "    return str1\n",
    "print(not_poor('The atmospher is not that poor!'))\n",
    "print(not_poor('The atmospher is poor!'))"
   ]
  },
  {
   "cell_type": "markdown",
   "id": "5886eaf7",
   "metadata": {},
   "source": [
    "### Write a Python function that takes a list of words and returns the length of the longest one."
   ]
  },
  {
   "cell_type": "code",
   "execution_count": 23,
   "id": "8b211245",
   "metadata": {},
   "outputs": [
    {
     "name": "stdout",
     "output_type": "stream",
     "text": [
      "\n",
      "Longest word:  Kevadiya\n",
      "Length of the longest word:  8\n"
     ]
    }
   ],
   "source": [
    "def find_longest_word(words_list):\n",
    "    word_len = []\n",
    "    for n in words_list:\n",
    "        word_len.append((len(n), n))\n",
    "    word_len.sort()\n",
    "    return word_len[-1][0], word_len[-1][1]\n",
    "result = find_longest_word([\"Parth\", \"Abhita\", \"Kevadiya\"])\n",
    "print(\"\\nLongest word: \",result[1])\n",
    "print(\"Length of the longest word: \",result[0])"
   ]
  },
  {
   "cell_type": "markdown",
   "id": "7d05d4c0",
   "metadata": {},
   "source": [
    "### Write a Python function to reverses a string if it's length is a multiple of 4"
   ]
  },
  {
   "cell_type": "code",
   "execution_count": 25,
   "id": "5a01b3b1",
   "metadata": {},
   "outputs": [
    {
     "name": "stdout",
     "output_type": "stream",
     "text": [
      "ayiR\n",
      "Mansi\n"
     ]
    }
   ],
   "source": [
    "def reverse_string(str1):\n",
    "    if len(str1) % 4 == 0:\n",
    "       return ''.join(reversed(str1))\n",
    "    return str1\n",
    "\n",
    "print(reverse_string('Riya'))\n",
    "print(reverse_string('Mansi'))"
   ]
  },
  {
   "cell_type": "markdown",
   "id": "c072c8e2",
   "metadata": {},
   "source": [
    "### Write a Python program to get a string made of the first 2 and the last 2 chars\n",
    "#### from a given a string. If the string length is less than 2, return instead of the empty string. \n",
    "#### Go to the editor \n",
    "#### Sample String : 'w3resource'\n",
    "#### Expected Result : 'w3ce'\n",
    "#### Sample String : 'w3'\n",
    "#### Expected Result : 'w3w3'\n",
    "#### Sample String : ' w'\n",
    "#### Expected Result : Empty String "
   ]
  },
  {
   "cell_type": "code",
   "execution_count": 26,
   "id": "944e8e08",
   "metadata": {},
   "outputs": [
    {
     "name": "stdout",
     "output_type": "stream",
     "text": [
      "w3ce\n",
      "w3w3\n",
      "\n"
     ]
    }
   ],
   "source": [
    "def string_both_ends(str):\n",
    "  if len(str) < 2:\n",
    "    return ''\n",
    "\n",
    "  return str[0:2] + str[-2:]\n",
    "\n",
    "print(string_both_ends('w3resource'))\n",
    "print(string_both_ends('w3'))\n",
    "print(string_both_ends('w'))\n"
   ]
  },
  {
   "cell_type": "markdown",
   "id": "e58080e1",
   "metadata": {},
   "source": [
    "### Write a Python program to get a string from a given string where all occurrences of its first char have been changed to'$',except the first char itself"
   ]
  },
  {
   "cell_type": "code",
   "execution_count": 29,
   "id": "c544e973",
   "metadata": {},
   "outputs": [
    {
     "name": "stdout",
     "output_type": "stream",
     "text": [
      "ABHIT$\n"
     ]
    }
   ],
   "source": [
    "def change_char(str1):  \n",
    "  char = str1[0]  \n",
    "  length = len(str1)  \n",
    "  str1 = str1.replace(char, '$')  \n",
    "  str1 = char + str1[1:]  \n",
    "  \n",
    "  return str1  \n",
    "  \n",
    "print(change_char('ABHITA'))  "
   ]
  },
  {
   "cell_type": "markdown",
   "id": "076aaac8",
   "metadata": {},
   "source": [
    "### Write a Python function to insert a string in the middle of a string.\n"
   ]
  },
  {
   "cell_type": "code",
   "execution_count": 30,
   "id": "576fde7c",
   "metadata": {},
   "outputs": [
    {
     "name": "stdout",
     "output_type": "stream",
     "text": [
      "[[Python]]\n",
      "{{PHP}}\n",
      "<<HTML>>\n"
     ]
    }
   ],
   "source": [
    "def insert_sting_middle(str, word):\n",
    "\treturn str[:2] + word + str[2:]\n",
    "\n",
    "print(insert_sting_middle('[[]]', 'Python'))\n",
    "print(insert_sting_middle('{{}}', 'PHP'))\n",
    "print(insert_sting_middle('<<>>', 'HTML'))"
   ]
  }
 ],
 "metadata": {
  "kernelspec": {
   "display_name": "Python 3",
   "language": "python",
   "name": "python3"
  },
  "language_info": {
   "codemirror_mode": {
    "name": "ipython",
    "version": 3
   },
   "file_extension": ".py",
   "mimetype": "text/x-python",
   "name": "python",
   "nbconvert_exporter": "python",
   "pygments_lexer": "ipython3",
   "version": "3.8.8"
  }
 },
 "nbformat": 4,
 "nbformat_minor": 5
}
