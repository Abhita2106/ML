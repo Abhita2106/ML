{
 "cells": [
  {
   "cell_type": "code",
   "execution_count": 1,
   "id": "ab4c4c7e",
   "metadata": {},
   "outputs": [],
   "source": [
    "import numpy as np\n",
    "import pandas as pd\n",
    "import matplotlib.pyplot as plt"
   ]
  },
  {
   "cell_type": "code",
   "execution_count": 2,
   "id": "a630fcb2",
   "metadata": {},
   "outputs": [],
   "source": [
    "df = pd.read_csv('C:/Users/DELL/Downloads/Mall_Customers.csv')"
   ]
  },
  {
   "cell_type": "code",
   "execution_count": 3,
   "id": "d10d87ee",
   "metadata": {},
   "outputs": [
    {
     "data": {
      "text/html": [
       "<div>\n",
       "<style scoped>\n",
       "    .dataframe tbody tr th:only-of-type {\n",
       "        vertical-align: middle;\n",
       "    }\n",
       "\n",
       "    .dataframe tbody tr th {\n",
       "        vertical-align: top;\n",
       "    }\n",
       "\n",
       "    .dataframe thead th {\n",
       "        text-align: right;\n",
       "    }\n",
       "</style>\n",
       "<table border=\"1\" class=\"dataframe\">\n",
       "  <thead>\n",
       "    <tr style=\"text-align: right;\">\n",
       "      <th></th>\n",
       "      <th>CustomerID</th>\n",
       "      <th>Genre</th>\n",
       "      <th>Age</th>\n",
       "      <th>Annual Income (k$)</th>\n",
       "      <th>Spending Score (1-100)</th>\n",
       "    </tr>\n",
       "  </thead>\n",
       "  <tbody>\n",
       "    <tr>\n",
       "      <th>0</th>\n",
       "      <td>1</td>\n",
       "      <td>Male</td>\n",
       "      <td>19</td>\n",
       "      <td>15</td>\n",
       "      <td>39</td>\n",
       "    </tr>\n",
       "    <tr>\n",
       "      <th>1</th>\n",
       "      <td>2</td>\n",
       "      <td>Male</td>\n",
       "      <td>21</td>\n",
       "      <td>15</td>\n",
       "      <td>81</td>\n",
       "    </tr>\n",
       "    <tr>\n",
       "      <th>2</th>\n",
       "      <td>3</td>\n",
       "      <td>Female</td>\n",
       "      <td>20</td>\n",
       "      <td>16</td>\n",
       "      <td>6</td>\n",
       "    </tr>\n",
       "    <tr>\n",
       "      <th>3</th>\n",
       "      <td>4</td>\n",
       "      <td>Female</td>\n",
       "      <td>23</td>\n",
       "      <td>16</td>\n",
       "      <td>77</td>\n",
       "    </tr>\n",
       "    <tr>\n",
       "      <th>4</th>\n",
       "      <td>5</td>\n",
       "      <td>Female</td>\n",
       "      <td>31</td>\n",
       "      <td>17</td>\n",
       "      <td>40</td>\n",
       "    </tr>\n",
       "  </tbody>\n",
       "</table>\n",
       "</div>"
      ],
      "text/plain": [
       "   CustomerID   Genre  Age  Annual Income (k$)  Spending Score (1-100)\n",
       "0           1    Male   19                  15                      39\n",
       "1           2    Male   21                  15                      81\n",
       "2           3  Female   20                  16                       6\n",
       "3           4  Female   23                  16                      77\n",
       "4           5  Female   31                  17                      40"
      ]
     },
     "execution_count": 3,
     "metadata": {},
     "output_type": "execute_result"
    }
   ],
   "source": [
    "df.head()"
   ]
  },
  {
   "cell_type": "code",
   "execution_count": 4,
   "id": "fd7ab94e",
   "metadata": {},
   "outputs": [
    {
     "name": "stdout",
     "output_type": "stream",
     "text": [
      "<class 'pandas.core.frame.DataFrame'>\n",
      "RangeIndex: 200 entries, 0 to 199\n",
      "Data columns (total 5 columns):\n",
      " #   Column                  Non-Null Count  Dtype \n",
      "---  ------                  --------------  ----- \n",
      " 0   CustomerID              200 non-null    int64 \n",
      " 1   Genre                   200 non-null    object\n",
      " 2   Age                     200 non-null    int64 \n",
      " 3   Annual Income (k$)      200 non-null    int64 \n",
      " 4   Spending Score (1-100)  200 non-null    int64 \n",
      "dtypes: int64(4), object(1)\n",
      "memory usage: 7.9+ KB\n"
     ]
    }
   ],
   "source": [
    "df.info()"
   ]
  },
  {
   "cell_type": "code",
   "execution_count": 5,
   "id": "20952b29",
   "metadata": {},
   "outputs": [
    {
     "data": {
      "text/html": [
       "<div>\n",
       "<style scoped>\n",
       "    .dataframe tbody tr th:only-of-type {\n",
       "        vertical-align: middle;\n",
       "    }\n",
       "\n",
       "    .dataframe tbody tr th {\n",
       "        vertical-align: top;\n",
       "    }\n",
       "\n",
       "    .dataframe thead th {\n",
       "        text-align: right;\n",
       "    }\n",
       "</style>\n",
       "<table border=\"1\" class=\"dataframe\">\n",
       "  <thead>\n",
       "    <tr style=\"text-align: right;\">\n",
       "      <th></th>\n",
       "      <th>CustomerID</th>\n",
       "      <th>Genre</th>\n",
       "      <th>Age</th>\n",
       "      <th>Annual Income (k$)</th>\n",
       "      <th>Spending Score (1-100)</th>\n",
       "    </tr>\n",
       "  </thead>\n",
       "  <tbody>\n",
       "    <tr>\n",
       "      <th>0</th>\n",
       "      <td>1</td>\n",
       "      <td>0</td>\n",
       "      <td>19</td>\n",
       "      <td>15</td>\n",
       "      <td>39</td>\n",
       "    </tr>\n",
       "    <tr>\n",
       "      <th>1</th>\n",
       "      <td>2</td>\n",
       "      <td>0</td>\n",
       "      <td>21</td>\n",
       "      <td>15</td>\n",
       "      <td>81</td>\n",
       "    </tr>\n",
       "    <tr>\n",
       "      <th>2</th>\n",
       "      <td>3</td>\n",
       "      <td>1</td>\n",
       "      <td>20</td>\n",
       "      <td>16</td>\n",
       "      <td>6</td>\n",
       "    </tr>\n",
       "    <tr>\n",
       "      <th>3</th>\n",
       "      <td>4</td>\n",
       "      <td>1</td>\n",
       "      <td>23</td>\n",
       "      <td>16</td>\n",
       "      <td>77</td>\n",
       "    </tr>\n",
       "    <tr>\n",
       "      <th>4</th>\n",
       "      <td>5</td>\n",
       "      <td>1</td>\n",
       "      <td>31</td>\n",
       "      <td>17</td>\n",
       "      <td>40</td>\n",
       "    </tr>\n",
       "    <tr>\n",
       "      <th>...</th>\n",
       "      <td>...</td>\n",
       "      <td>...</td>\n",
       "      <td>...</td>\n",
       "      <td>...</td>\n",
       "      <td>...</td>\n",
       "    </tr>\n",
       "    <tr>\n",
       "      <th>195</th>\n",
       "      <td>196</td>\n",
       "      <td>1</td>\n",
       "      <td>35</td>\n",
       "      <td>120</td>\n",
       "      <td>79</td>\n",
       "    </tr>\n",
       "    <tr>\n",
       "      <th>196</th>\n",
       "      <td>197</td>\n",
       "      <td>1</td>\n",
       "      <td>45</td>\n",
       "      <td>126</td>\n",
       "      <td>28</td>\n",
       "    </tr>\n",
       "    <tr>\n",
       "      <th>197</th>\n",
       "      <td>198</td>\n",
       "      <td>0</td>\n",
       "      <td>32</td>\n",
       "      <td>126</td>\n",
       "      <td>74</td>\n",
       "    </tr>\n",
       "    <tr>\n",
       "      <th>198</th>\n",
       "      <td>199</td>\n",
       "      <td>0</td>\n",
       "      <td>32</td>\n",
       "      <td>137</td>\n",
       "      <td>18</td>\n",
       "    </tr>\n",
       "    <tr>\n",
       "      <th>199</th>\n",
       "      <td>200</td>\n",
       "      <td>0</td>\n",
       "      <td>30</td>\n",
       "      <td>137</td>\n",
       "      <td>83</td>\n",
       "    </tr>\n",
       "  </tbody>\n",
       "</table>\n",
       "<p>200 rows × 5 columns</p>\n",
       "</div>"
      ],
      "text/plain": [
       "     CustomerID  Genre  Age  Annual Income (k$)  Spending Score (1-100)\n",
       "0             1      0   19                  15                      39\n",
       "1             2      0   21                  15                      81\n",
       "2             3      1   20                  16                       6\n",
       "3             4      1   23                  16                      77\n",
       "4             5      1   31                  17                      40\n",
       "..          ...    ...  ...                 ...                     ...\n",
       "195         196      1   35                 120                      79\n",
       "196         197      1   45                 126                      28\n",
       "197         198      0   32                 126                      74\n",
       "198         199      0   32                 137                      18\n",
       "199         200      0   30                 137                      83\n",
       "\n",
       "[200 rows x 5 columns]"
      ]
     },
     "execution_count": 5,
     "metadata": {},
     "output_type": "execute_result"
    }
   ],
   "source": [
    "df['Genre'] = df['Genre'].map({'Male':0, 'Female':1})\n",
    "df"
   ]
  },
  {
   "cell_type": "code",
   "execution_count": 6,
   "id": "87f847db",
   "metadata": {},
   "outputs": [
    {
     "data": {
      "text/plain": [
       "array([[  1,   0,  19,  15],\n",
       "       [  2,   0,  21,  15],\n",
       "       [  3,   1,  20,  16],\n",
       "       [  4,   1,  23,  16],\n",
       "       [  5,   1,  31,  17],\n",
       "       [  6,   1,  22,  17],\n",
       "       [  7,   1,  35,  18],\n",
       "       [  8,   1,  23,  18],\n",
       "       [  9,   0,  64,  19],\n",
       "       [ 10,   1,  30,  19],\n",
       "       [ 11,   0,  67,  19],\n",
       "       [ 12,   1,  35,  19],\n",
       "       [ 13,   1,  58,  20],\n",
       "       [ 14,   1,  24,  20],\n",
       "       [ 15,   0,  37,  20],\n",
       "       [ 16,   0,  22,  20],\n",
       "       [ 17,   1,  35,  21],\n",
       "       [ 18,   0,  20,  21],\n",
       "       [ 19,   0,  52,  23],\n",
       "       [ 20,   1,  35,  23],\n",
       "       [ 21,   0,  35,  24],\n",
       "       [ 22,   0,  25,  24],\n",
       "       [ 23,   1,  46,  25],\n",
       "       [ 24,   0,  31,  25],\n",
       "       [ 25,   1,  54,  28],\n",
       "       [ 26,   0,  29,  28],\n",
       "       [ 27,   1,  45,  28],\n",
       "       [ 28,   0,  35,  28],\n",
       "       [ 29,   1,  40,  29],\n",
       "       [ 30,   1,  23,  29],\n",
       "       [ 31,   0,  60,  30],\n",
       "       [ 32,   1,  21,  30],\n",
       "       [ 33,   0,  53,  33],\n",
       "       [ 34,   0,  18,  33],\n",
       "       [ 35,   1,  49,  33],\n",
       "       [ 36,   1,  21,  33],\n",
       "       [ 37,   1,  42,  34],\n",
       "       [ 38,   1,  30,  34],\n",
       "       [ 39,   1,  36,  37],\n",
       "       [ 40,   1,  20,  37],\n",
       "       [ 41,   1,  65,  38],\n",
       "       [ 42,   0,  24,  38],\n",
       "       [ 43,   0,  48,  39],\n",
       "       [ 44,   1,  31,  39],\n",
       "       [ 45,   1,  49,  39],\n",
       "       [ 46,   1,  24,  39],\n",
       "       [ 47,   1,  50,  40],\n",
       "       [ 48,   1,  27,  40],\n",
       "       [ 49,   1,  29,  40],\n",
       "       [ 50,   1,  31,  40],\n",
       "       [ 51,   1,  49,  42],\n",
       "       [ 52,   0,  33,  42],\n",
       "       [ 53,   1,  31,  43],\n",
       "       [ 54,   0,  59,  43],\n",
       "       [ 55,   1,  50,  43],\n",
       "       [ 56,   0,  47,  43],\n",
       "       [ 57,   1,  51,  44],\n",
       "       [ 58,   0,  69,  44],\n",
       "       [ 59,   1,  27,  46],\n",
       "       [ 60,   0,  53,  46],\n",
       "       [ 61,   0,  70,  46],\n",
       "       [ 62,   0,  19,  46],\n",
       "       [ 63,   1,  67,  47],\n",
       "       [ 64,   1,  54,  47],\n",
       "       [ 65,   0,  63,  48],\n",
       "       [ 66,   0,  18,  48],\n",
       "       [ 67,   1,  43,  48],\n",
       "       [ 68,   1,  68,  48],\n",
       "       [ 69,   0,  19,  48],\n",
       "       [ 70,   1,  32,  48],\n",
       "       [ 71,   0,  70,  49],\n",
       "       [ 72,   1,  47,  49],\n",
       "       [ 73,   1,  60,  50],\n",
       "       [ 74,   1,  60,  50],\n",
       "       [ 75,   0,  59,  54],\n",
       "       [ 76,   0,  26,  54],\n",
       "       [ 77,   1,  45,  54],\n",
       "       [ 78,   0,  40,  54],\n",
       "       [ 79,   1,  23,  54],\n",
       "       [ 80,   1,  49,  54],\n",
       "       [ 81,   0,  57,  54],\n",
       "       [ 82,   0,  38,  54],\n",
       "       [ 83,   0,  67,  54],\n",
       "       [ 84,   1,  46,  54],\n",
       "       [ 85,   1,  21,  54],\n",
       "       [ 86,   0,  48,  54],\n",
       "       [ 87,   1,  55,  57],\n",
       "       [ 88,   1,  22,  57],\n",
       "       [ 89,   1,  34,  58],\n",
       "       [ 90,   1,  50,  58],\n",
       "       [ 91,   1,  68,  59],\n",
       "       [ 92,   0,  18,  59],\n",
       "       [ 93,   0,  48,  60],\n",
       "       [ 94,   1,  40,  60],\n",
       "       [ 95,   1,  32,  60],\n",
       "       [ 96,   0,  24,  60],\n",
       "       [ 97,   1,  47,  60],\n",
       "       [ 98,   1,  27,  60],\n",
       "       [ 99,   0,  48,  61],\n",
       "       [100,   0,  20,  61],\n",
       "       [101,   1,  23,  62],\n",
       "       [102,   1,  49,  62],\n",
       "       [103,   0,  67,  62],\n",
       "       [104,   0,  26,  62],\n",
       "       [105,   0,  49,  62],\n",
       "       [106,   1,  21,  62],\n",
       "       [107,   1,  66,  63],\n",
       "       [108,   0,  54,  63],\n",
       "       [109,   0,  68,  63],\n",
       "       [110,   0,  66,  63],\n",
       "       [111,   0,  65,  63],\n",
       "       [112,   1,  19,  63],\n",
       "       [113,   1,  38,  64],\n",
       "       [114,   0,  19,  64],\n",
       "       [115,   1,  18,  65],\n",
       "       [116,   1,  19,  65],\n",
       "       [117,   1,  63,  65],\n",
       "       [118,   1,  49,  65],\n",
       "       [119,   1,  51,  67],\n",
       "       [120,   1,  50,  67],\n",
       "       [121,   0,  27,  67],\n",
       "       [122,   1,  38,  67],\n",
       "       [123,   1,  40,  69],\n",
       "       [124,   0,  39,  69],\n",
       "       [125,   1,  23,  70],\n",
       "       [126,   1,  31,  70],\n",
       "       [127,   0,  43,  71],\n",
       "       [128,   0,  40,  71],\n",
       "       [129,   0,  59,  71],\n",
       "       [130,   0,  38,  71],\n",
       "       [131,   0,  47,  71],\n",
       "       [132,   0,  39,  71],\n",
       "       [133,   1,  25,  72],\n",
       "       [134,   1,  31,  72],\n",
       "       [135,   0,  20,  73],\n",
       "       [136,   1,  29,  73],\n",
       "       [137,   1,  44,  73],\n",
       "       [138,   0,  32,  73],\n",
       "       [139,   0,  19,  74],\n",
       "       [140,   1,  35,  74],\n",
       "       [141,   1,  57,  75],\n",
       "       [142,   0,  32,  75],\n",
       "       [143,   1,  28,  76],\n",
       "       [144,   1,  32,  76],\n",
       "       [145,   0,  25,  77],\n",
       "       [146,   0,  28,  77],\n",
       "       [147,   0,  48,  77],\n",
       "       [148,   1,  32,  77],\n",
       "       [149,   1,  34,  78],\n",
       "       [150,   0,  34,  78],\n",
       "       [151,   0,  43,  78],\n",
       "       [152,   0,  39,  78],\n",
       "       [153,   1,  44,  78],\n",
       "       [154,   1,  38,  78],\n",
       "       [155,   1,  47,  78],\n",
       "       [156,   1,  27,  78],\n",
       "       [157,   0,  37,  78],\n",
       "       [158,   1,  30,  78],\n",
       "       [159,   0,  34,  78],\n",
       "       [160,   1,  30,  78],\n",
       "       [161,   1,  56,  79],\n",
       "       [162,   1,  29,  79],\n",
       "       [163,   0,  19,  81],\n",
       "       [164,   1,  31,  81],\n",
       "       [165,   0,  50,  85],\n",
       "       [166,   1,  36,  85],\n",
       "       [167,   0,  42,  86],\n",
       "       [168,   1,  33,  86],\n",
       "       [169,   1,  36,  87],\n",
       "       [170,   0,  32,  87],\n",
       "       [171,   0,  40,  87],\n",
       "       [172,   0,  28,  87],\n",
       "       [173,   0,  36,  87],\n",
       "       [174,   0,  36,  87],\n",
       "       [175,   1,  52,  88],\n",
       "       [176,   1,  30,  88],\n",
       "       [177,   0,  58,  88],\n",
       "       [178,   0,  27,  88],\n",
       "       [179,   0,  59,  93],\n",
       "       [180,   0,  35,  93],\n",
       "       [181,   1,  37,  97],\n",
       "       [182,   1,  32,  97],\n",
       "       [183,   0,  46,  98],\n",
       "       [184,   1,  29,  98],\n",
       "       [185,   1,  41,  99],\n",
       "       [186,   0,  30,  99],\n",
       "       [187,   1,  54, 101],\n",
       "       [188,   0,  28, 101],\n",
       "       [189,   1,  41, 103],\n",
       "       [190,   1,  36, 103],\n",
       "       [191,   1,  34, 103],\n",
       "       [192,   1,  32, 103],\n",
       "       [193,   0,  33, 113],\n",
       "       [194,   1,  38, 113],\n",
       "       [195,   1,  47, 120],\n",
       "       [196,   1,  35, 120],\n",
       "       [197,   1,  45, 126],\n",
       "       [198,   0,  32, 126],\n",
       "       [199,   0,  32, 137],\n",
       "       [200,   0,  30, 137]], dtype=int64)"
      ]
     },
     "execution_count": 6,
     "metadata": {},
     "output_type": "execute_result"
    }
   ],
   "source": [
    "X = df.iloc[:, :-1].values\n",
    "X"
   ]
  },
  {
   "cell_type": "code",
   "execution_count": 7,
   "id": "5484546e",
   "metadata": {},
   "outputs": [
    {
     "data": {
      "text/plain": [
       "array([39, 81,  6, 77, 40, 76,  6, 94,  3, 72, 14, 99, 15, 77, 13, 79, 35,\n",
       "       66, 29, 98, 35, 73,  5, 73, 14, 82, 32, 61, 31, 87,  4, 73,  4, 92,\n",
       "       14, 81, 17, 73, 26, 75, 35, 92, 36, 61, 28, 65, 55, 47, 42, 42, 52,\n",
       "       60, 54, 60, 45, 41, 50, 46, 51, 46, 56, 55, 52, 59, 51, 59, 50, 48,\n",
       "       59, 47, 55, 42, 49, 56, 47, 54, 53, 48, 52, 42, 51, 55, 41, 44, 57,\n",
       "       46, 58, 55, 60, 46, 55, 41, 49, 40, 42, 52, 47, 50, 42, 49, 41, 48,\n",
       "       59, 55, 56, 42, 50, 46, 43, 48, 52, 54, 42, 46, 48, 50, 43, 59, 43,\n",
       "       57, 56, 40, 58, 91, 29, 77, 35, 95, 11, 75,  9, 75, 34, 71,  5, 88,\n",
       "        7, 73, 10, 72,  5, 93, 40, 87, 12, 97, 36, 74, 22, 90, 17, 88, 20,\n",
       "       76, 16, 89,  1, 78,  1, 73, 35, 83,  5, 93, 26, 75, 20, 95, 27, 63,\n",
       "       13, 75, 10, 92, 13, 86, 15, 69, 14, 90, 32, 86, 15, 88, 39, 97, 24,\n",
       "       68, 17, 85, 23, 69,  8, 91, 16, 79, 28, 74, 18, 83], dtype=int64)"
      ]
     },
     "execution_count": 7,
     "metadata": {},
     "output_type": "execute_result"
    }
   ],
   "source": [
    "Y = Y = df.iloc[:, -1].values\n",
    "Y"
   ]
  },
  {
   "cell_type": "code",
   "execution_count": 8,
   "id": "9f3219b6",
   "metadata": {},
   "outputs": [],
   "source": [
    "from sklearn.model_selection import train_test_split\n",
    "X_train, X_test, Y_train, Y_test = train_test_split(X, Y, test_size = 0.20, random_state = 10)"
   ]
  },
  {
   "cell_type": "code",
   "execution_count": 9,
   "id": "7443ac99",
   "metadata": {},
   "outputs": [],
   "source": [
    "from sklearn.preprocessing import StandardScaler\n",
    "sc = StandardScaler()\n",
    "X_train = sc.fit_transform(X_train)\n",
    "X_test = sc.transform(X_test)"
   ]
  },
  {
   "cell_type": "code",
   "execution_count": 10,
   "id": "a3330cd7",
   "metadata": {},
   "outputs": [],
   "source": [
    "from sklearn.tree import DecisionTreeClassifier\n",
    "\n",
    "dtc = DecisionTreeClassifier()\n"
   ]
  },
  {
   "cell_type": "code",
   "execution_count": 11,
   "id": "fe99809e",
   "metadata": {},
   "outputs": [
    {
     "data": {
      "text/plain": [
       "DecisionTreeClassifier()"
      ]
     },
     "execution_count": 11,
     "metadata": {},
     "output_type": "execute_result"
    }
   ],
   "source": [
    "dtc.fit(X_train, Y_train) \n",
    "dtc"
   ]
  },
  {
   "cell_type": "code",
   "execution_count": 12,
   "id": "edb81349",
   "metadata": {},
   "outputs": [
    {
     "data": {
      "text/plain": [
       "array([56, 77, 61, 74, 51,  5, 12, 60, 42, 77, 49,  3, 55, 89, 34, 50, 52,\n",
       "       42, 42, 83, 36, 11, 59, 60, 43, 58, 35, 39, 42, 92, 78, 73, 42, 46,\n",
       "       73, 15, 75, 93, 42, 24], dtype=int64)"
      ]
     },
     "execution_count": 12,
     "metadata": {},
     "output_type": "execute_result"
    }
   ],
   "source": [
    "Y_pred = dtc.predict(X_test)    \n",
    "Y_pred"
   ]
  },
  {
   "cell_type": "code",
   "execution_count": 13,
   "id": "8864509d",
   "metadata": {},
   "outputs": [],
   "source": [
    "from sklearn.metrics import accuracy_score, confusion_matrix"
   ]
  },
  {
   "cell_type": "code",
   "execution_count": 14,
   "id": "f9d4dd1e",
   "metadata": {},
   "outputs": [
    {
     "data": {
      "text/plain": [
       "0.0"
      ]
     },
     "execution_count": 14,
     "metadata": {},
     "output_type": "execute_result"
    }
   ],
   "source": [
    "test_score = accuracy_score(Y_test, Y_pred)\n",
    "test_score"
   ]
  },
  {
   "cell_type": "code",
   "execution_count": 15,
   "id": "ffce74cf",
   "metadata": {},
   "outputs": [
    {
     "data": {
      "text/plain": [
       "array([[0, 0, 0, ..., 0, 0, 0],\n",
       "       [0, 0, 0, ..., 0, 0, 0],\n",
       "       [0, 0, 0, ..., 0, 0, 0],\n",
       "       ...,\n",
       "       [0, 0, 0, ..., 0, 0, 0],\n",
       "       [0, 0, 0, ..., 0, 0, 0],\n",
       "       [0, 1, 0, ..., 0, 0, 0]], dtype=int64)"
      ]
     },
     "execution_count": 15,
     "metadata": {},
     "output_type": "execute_result"
    }
   ],
   "source": [
    "confusion_matrix(Y_test, Y_pred)"
   ]
  },
  {
   "cell_type": "code",
   "execution_count": 16,
   "id": "ebf3ffe1",
   "metadata": {},
   "outputs": [
    {
     "data": {
      "text/plain": [
       "array([23, 94, 32, 10, 51, 49, 55, 83, 50, 43, 14, 61, 48, 93, 73, 56, 86,\n",
       "       55, 55, 42, 57, 52, 52, 95, 91, 59, 75, 48, 48, 50, 56, 26, 28, 83,\n",
       "       49, 20, 44, 20, 59, 92, 51, 55,  4, 13, 42, 82, 60, 42, 66, 16, 60,\n",
       "       13, 41, 57, 39, 87, 77, 73, 74, 17, 73, 85, 24, 68, 65, 34, 50, 90,\n",
       "       69, 36, 75, 75, 42, 35, 69, 87, 27, 15, 42, 99,  5, 50, 46, 36,  6,\n",
       "       11, 90, 89, 22, 56, 14, 43, 52,  5, 12, 97, 40, 71, 28, 47, 15, 31,\n",
       "       88, 75, 32, 42, 43,  8, 74, 73, 47, 15, 42, 88, 17, 92, 40, 29, 61,\n",
       "       17, 46, 73, 59,  5, 46,  1,  4, 58, 49, 93, 35, 76, 77, 48, 86, 88,\n",
       "       92, 52, 58, 46, 60, 45, 72, 41, 35, 50, 26, 35, 39, 56,  3, 79, 78,\n",
       "        1, 91, 46, 51, 79, 77, 72], dtype=int64)"
      ]
     },
     "execution_count": 16,
     "metadata": {},
     "output_type": "execute_result"
    }
   ],
   "source": [
    "y_pred_train = dtc.predict(X_train)\n",
    "y_pred_train"
   ]
  },
  {
   "cell_type": "code",
   "execution_count": 17,
   "id": "a32f44ba",
   "metadata": {},
   "outputs": [
    {
     "data": {
      "text/plain": [
       "1.0"
      ]
     },
     "execution_count": 17,
     "metadata": {},
     "output_type": "execute_result"
    }
   ],
   "source": [
    "train_score = accuracy_score(Y_train, y_pred_train)\n",
    "train_score"
   ]
  },
  {
   "cell_type": "code",
   "execution_count": 33,
   "id": "c9949846",
   "metadata": {},
   "outputs": [
    {
     "data": {
      "text/plain": [
       "{'max_depth': [1, 3, 2, 6],\n",
       " 'min_samples_leaf': [5, 7, 1, 3],\n",
       " 'criterion': ['gini', 'entropy']}"
      ]
     },
     "execution_count": 33,
     "metadata": {},
     "output_type": "execute_result"
    }
   ],
   "source": [
    "parameter_grid = {'max_depth':[1,3,2,6],'min_samples_leaf':[5,7,1,3],'criterion':['gini','entropy']}\n",
    "\n",
    "parameter_grid"
   ]
  },
  {
   "cell_type": "code",
   "execution_count": 19,
   "id": "1239de19",
   "metadata": {},
   "outputs": [],
   "source": [
    "from sklearn.model_selection import GridSearchCV"
   ]
  },
  {
   "cell_type": "code",
   "execution_count": 20,
   "id": "0bd7c050",
   "metadata": {},
   "outputs": [],
   "source": [
    "import warnings\n",
    "warnings.filterwarnings('ignore')"
   ]
  },
  {
   "cell_type": "code",
   "execution_count": 21,
   "id": "db7a8b1d",
   "metadata": {},
   "outputs": [],
   "source": [
    "dtc = DecisionTreeClassifier() "
   ]
  },
  {
   "cell_type": "code",
   "execution_count": 22,
   "id": "e587bc6c",
   "metadata": {},
   "outputs": [],
   "source": [
    "grid = GridSearchCV(estimator=dtc, param_grid=parameter_grid, cv=4, n_jobs=-1, verbose=1, scoring='accuracy')"
   ]
  },
  {
   "cell_type": "code",
   "execution_count": 23,
   "id": "0a9fee99",
   "metadata": {},
   "outputs": [
    {
     "name": "stdout",
     "output_type": "stream",
     "text": [
      "Fitting 4 folds for each of 32 candidates, totalling 128 fits\n"
     ]
    },
    {
     "data": {
      "text/plain": [
       "GridSearchCV(cv=4, estimator=DecisionTreeClassifier(), n_jobs=-1,\n",
       "             param_grid={'criterion': ['gini', 'entropy'],\n",
       "                         'max_depth': [5, 7, 8, 9],\n",
       "                         'min_samples_leaf': [4, 8, 10, 12]},\n",
       "             scoring='accuracy', verbose=1)"
      ]
     },
     "execution_count": 23,
     "metadata": {},
     "output_type": "execute_result"
    }
   ],
   "source": [
    "grid.fit(X_train, Y_train)"
   ]
  },
  {
   "cell_type": "code",
   "execution_count": 24,
   "id": "2b1fa5c6",
   "metadata": {},
   "outputs": [
    {
     "data": {
      "text/plain": [
       "DecisionTreeClassifier(criterion='entropy', max_depth=7, min_samples_leaf=12)"
      ]
     },
     "execution_count": 24,
     "metadata": {},
     "output_type": "execute_result"
    }
   ],
   "source": [
    "grid.best_estimator_"
   ]
  },
  {
   "cell_type": "code",
   "execution_count": 25,
   "id": "11144603",
   "metadata": {},
   "outputs": [],
   "source": [
    "dtc_best = grid.best_estimator_"
   ]
  },
  {
   "cell_type": "code",
   "execution_count": 26,
   "id": "ba2ebd0f",
   "metadata": {},
   "outputs": [
    {
     "data": {
      "text/plain": [
       "array([51, 73,  4, 74, 42,  4, 88, 51, 42, 73, 46,  4, 51, 88, 88, 43, 46,\n",
       "       42, 42, 74, 15, 15, 51, 42, 46, 42, 15, 73, 42, 75, 74, 73, 42, 46,\n",
       "       73, 15, 15, 74,  4, 15], dtype=int64)"
      ]
     },
     "execution_count": 26,
     "metadata": {},
     "output_type": "execute_result"
    }
   ],
   "source": [
    "\n",
    "y_pred = dtc_best.predict(X_test)\n",
    "y_pred"
   ]
  },
  {
   "cell_type": "code",
   "execution_count": 27,
   "id": "3281e5d0",
   "metadata": {},
   "outputs": [
    {
     "data": {
      "text/plain": [
       "1.0"
      ]
     },
     "execution_count": 27,
     "metadata": {},
     "output_type": "execute_result"
    }
   ],
   "source": [
    "dtc_best_score = accuracy_score(Y_train, y_pred_train)\n",
    "dtc_best_score"
   ]
  },
  {
   "cell_type": "code",
   "execution_count": 36,
   "id": "1ed1de3b",
   "metadata": {},
   "outputs": [
    {
     "data": {
      "text/plain": [
       "0.0"
      ]
     },
     "execution_count": 36,
     "metadata": {},
     "output_type": "execute_result"
    }
   ],
   "source": [
    "dtc_score = accuracy_score(Y_test, y_pred)\n",
    "dtc_score"
   ]
  },
  {
   "cell_type": "code",
   "execution_count": null,
   "id": "cb46824a",
   "metadata": {},
   "outputs": [],
   "source": []
  }
 ],
 "metadata": {
  "kernelspec": {
   "display_name": "Python 3",
   "language": "python",
   "name": "python3"
  },
  "language_info": {
   "codemirror_mode": {
    "name": "ipython",
    "version": 3
   },
   "file_extension": ".py",
   "mimetype": "text/x-python",
   "name": "python",
   "nbconvert_exporter": "python",
   "pygments_lexer": "ipython3",
   "version": "3.8.8"
  }
 },
 "nbformat": 4,
 "nbformat_minor": 5
}
